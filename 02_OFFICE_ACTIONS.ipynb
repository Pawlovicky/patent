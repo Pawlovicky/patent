{
 "cells": [
  {
   "cell_type": "markdown",
   "metadata": {},
   "source": [
    "# 1. Office actions\n",
    "Upon receiving a patent application, the patent examiner will issue a certain action on it. \n",
    "\n",
    "https://bulkdata.uspto.gov/data/patent/office/actions/bigdata/2017/\n",
    "\n",
    "1. Create the simplest problem formulation possible on a development set\n",
    "2. Train our simple problem on the whole data\n",
    "3. Eventually make the attempt to predict the complete hierarchy of the IPC"
   ]
  },
  {
   "cell_type": "code",
   "execution_count": 2,
   "metadata": {},
   "outputs": [],
   "source": [
    "import pandas as pd\n",
    "import numpy as np\n",
    "%matplotlib inline"
   ]
  },
  {
   "cell_type": "code",
   "execution_count": null,
   "metadata": {
    "scrolled": true
   },
   "outputs": [],
   "source": [
    "#!wget http://www.patentsview.org/data/20171226/claim.tsv.zip\n",
    "!wget http://www.patentsview.org/data/20171226/ipcr.tsv.zip\n",
    "#!wget http://www.patentsview.org/data/20171226/brf_sum_text.tsv.zip"
   ]
  },
  {
   "cell_type": "code",
   "execution_count": null,
   "metadata": {},
   "outputs": [],
   "source": [
    "!unzip -o ipcr.tsv.zip\n",
    "#!unzip -o claim.tsv.zip\n",
    "#!unzip -o brf_sum_text.tsv"
   ]
  },
  {
   "cell_type": "code",
   "execution_count": null,
   "metadata": {},
   "outputs": [],
   "source": [
    "#adc = pd.read_csv('claim.tsv', nrows=2000, delimiter='\\t')"
   ]
  },
  {
   "cell_type": "code",
   "execution_count": 3,
   "metadata": {},
   "outputs": [
    {
     "data": {
      "text/plain": [
       "array(['D', 'H', 'G', 'F', 'A', 'C', 'B', 'E', 'Q', 'M', 'K', 'I', 'N',\n",
       "       'R', 'O', '6', 'L', 'P', '0', 'S', 'Z', 'J', '2', 'X', 'W', '3',\n",
       "       'V', '1', '8', 'h', 'g', '4', 'T', '?', 'U', 'c', 'Y', 'b', '9',\n",
       "       '5', 'e'], dtype=object)"
      ]
     },
     "execution_count": 3,
     "metadata": {},
     "output_type": "execute_result"
    }
   ],
   "source": [
    "ipcr = pd.read_csv('ipcr.tsv', delimiter='\\t', low_memory=False,\n",
    "                  parse_dates=['action_date', 'ipc_version_indicator'])\n",
    "ipcr.section.unique()\n",
    "\n",
    "\n"
   ]
  },
  {
   "cell_type": "code",
   "execution_count": 25,
   "metadata": {},
   "outputs": [],
   "source": [
    "sec_desc_dict = {\n",
    "'section': ['A','B','C','D','E','F','G','H'],\n",
    "'sec_desc':  ['HUMAN NECESSITIES',\n",
    "              'PERFORMING OPERATIONS; TRANSPORTING',\n",
    "              'CHEMISTRY; METALLURGY','TEXTILES; PAPER','FIXED CONSTRUCTIONS',\n",
    "              'MECHANICAL ENGINEERING; LIGHTING; HEATING; WEAPONS; BLASTING',\n",
    "              'PHYSICS','ELECTRICITY']}\n",
    "sec_desc = pd.DataFrame.from_dict(sec_desc_dict).set_index('section')"
   ]
  },
  {
   "cell_type": "markdown",
   "metadata": {},
   "source": [
    "According to the IPC document, section should be a letter from A-H. \n",
    "http://www.wipo.int/classifications/ipc/ipcpub/?notion=scheme&version=20180101&symbol=none&menulang=en&lang=en&viewmode=f&fipcpc=no&showdeleted=yes&indexes=no&headings=yes&notes=yes&direction=o2n&initial=A&cwid=none&tree=no&searchmode=smart"
   ]
  },
  {
   "cell_type": "code",
   "execution_count": 4,
   "metadata": {},
   "outputs": [],
   "source": [
    "not_AH_patents = ipcr.loc[~ipcr.section.str.match('[A-H]')]\n",
    "not_AH_patents.shape[0]/ipcr.shape[0]\n",
    "ipcr = ipcr.loc[ipcr.section.str.match('[A-H]')]"
   ]
  },
  {
   "cell_type": "markdown",
   "metadata": {},
   "source": [
    "As this is just 0.01% of the data, we simply discard this non-compliant part.\n",
    "The next important question is how many patents have multilabels (i.e. more than 1 single section letter assigned to them)."
   ]
  },
  {
   "cell_type": "code",
   "execution_count": 30,
   "metadata": {
    "scrolled": true
   },
   "outputs": [
    {
     "data": {
      "text/html": [
       "<style  type=\"text/css\" >\n",
       "</style>  \n",
       "<table id=\"T_e4239114_76b0_11e8_855c_0242ac110002\" > \n",
       "<thead>    <tr> \n",
       "        <th class=\"blank level0\" ></th> \n",
       "        <th class=\"col_heading level0 col0\" >% of Patents</th> \n",
       "    </tr>    <tr> \n",
       "        <th class=\"index_name level0\" >Number of unique sections</th> \n",
       "        <th class=\"blank\" ></th> \n",
       "    </tr></thead> \n",
       "<tbody>    <tr> \n",
       "        <th id=\"T_e4239114_76b0_11e8_855c_0242ac110002level0_row0\" class=\"row_heading level0 row0\" >1</th> \n",
       "        <td id=\"T_e4239114_76b0_11e8_855c_0242ac110002row0_col0\" class=\"data row0 col0\" >75.02%</td> \n",
       "    </tr>    <tr> \n",
       "        <th id=\"T_e4239114_76b0_11e8_855c_0242ac110002level0_row1\" class=\"row_heading level0 row1\" >2</th> \n",
       "        <td id=\"T_e4239114_76b0_11e8_855c_0242ac110002row1_col0\" class=\"data row1 col0\" >10.81%</td> \n",
       "    </tr>    <tr> \n",
       "        <th id=\"T_e4239114_76b0_11e8_855c_0242ac110002level0_row2\" class=\"row_heading level0 row2\" >3</th> \n",
       "        <td id=\"T_e4239114_76b0_11e8_855c_0242ac110002row2_col0\" class=\"data row2 col0\" >1.00%</td> \n",
       "    </tr>    <tr> \n",
       "        <th id=\"T_e4239114_76b0_11e8_855c_0242ac110002level0_row3\" class=\"row_heading level0 row3\" >4</th> \n",
       "        <td id=\"T_e4239114_76b0_11e8_855c_0242ac110002row3_col0\" class=\"data row3 col0\" >0.08%</td> \n",
       "    </tr>    <tr> \n",
       "        <th id=\"T_e4239114_76b0_11e8_855c_0242ac110002level0_row4\" class=\"row_heading level0 row4\" >5</th> \n",
       "        <td id=\"T_e4239114_76b0_11e8_855c_0242ac110002row4_col0\" class=\"data row4 col0\" >0.01%</td> \n",
       "    </tr>    <tr> \n",
       "        <th id=\"T_e4239114_76b0_11e8_855c_0242ac110002level0_row5\" class=\"row_heading level0 row5\" >6</th> \n",
       "        <td id=\"T_e4239114_76b0_11e8_855c_0242ac110002row5_col0\" class=\"data row5 col0\" >0.00%</td> \n",
       "    </tr>    <tr> \n",
       "        <th id=\"T_e4239114_76b0_11e8_855c_0242ac110002level0_row6\" class=\"row_heading level0 row6\" >7</th> \n",
       "        <td id=\"T_e4239114_76b0_11e8_855c_0242ac110002row6_col0\" class=\"data row6 col0\" >0.00%</td> \n",
       "    </tr></tbody> \n",
       "</table> "
      ],
      "text/plain": [
       "<pandas.io.formats.style.Styler at 0x7f0b65cf7fd0>"
      ]
     },
     "execution_count": 30,
     "metadata": {},
     "output_type": "execute_result"
    }
   ],
   "source": [
    "ipcr_s = ipcr.loc[:, ['patent_id', 'section']].drop_duplicates()\n",
    "multi_s = ipcr_s.groupby('patent_id').count()\n",
    "labelstats = multi_s.reset_index()\n",
    "labelstats = labelstats.groupby('section').count()\n",
    "labelstats = (labelstats/ipcr_s.shape[0])\n",
    "labelstats.columns = ['% of Patents']\n",
    "labelstats.index.name='Number of unique sections'\n",
    "labelstats.style.format({'% of Patents': '{:,.2%}'.format})"
   ]
  },
  {
   "cell_type": "markdown",
   "metadata": {},
   "source": [
    "As seen above, 75% of the data set have only one section per patent.\n",
    "For starters we will hence at first NOT treat this problem as a multi-class/multi-label problem, but as a simpler multiclass single-label problem.\n",
    "\n",
    "We will hence proceed to\n",
    "\n",
    "1. Discard patents that have more than one section assigned in the classification\n",
    "\n",
    "2. Save these patent ids with their sections in seperate file\n",
    "\n",
    "3. Create new notebook that identifies the appropriate training data for these patents"
   ]
  },
  {
   "cell_type": "code",
   "execution_count": 39,
   "metadata": {},
   "outputs": [],
   "source": [
    "ipcr_s.loc[ipcr_s.patent_id.isin(multi_s.query('section == 1').index)].\\\n",
    "   to_csv('ipcr_single_label_sections_only.csv')"
   ]
  },
  {
   "cell_type": "code",
   "execution_count": 40,
   "metadata": {},
   "outputs": [],
   "source": [
    "ipcr = pd.read_csv('ipcr_single_label_sections_only.csv')\n",
    "ipcr.info()"
   ]
  },
  {
   "cell_type": "markdown",
   "metadata": {},
   "source": [
    "As seen above, we still have 5 Mn patents to classify.\n",
    "Last but not least lets check for any larger skews in the data:"
   ]
  },
  {
   "cell_type": "code",
   "execution_count": 31,
   "metadata": {},
   "outputs": [
    {
     "data": {
      "text/html": [
       "<div>\n",
       "<style scoped>\n",
       "    .dataframe tbody tr th:only-of-type {\n",
       "        vertical-align: middle;\n",
       "    }\n",
       "\n",
       "    .dataframe tbody tr th {\n",
       "        vertical-align: top;\n",
       "    }\n",
       "\n",
       "    .dataframe thead th {\n",
       "        text-align: right;\n",
       "    }\n",
       "</style>\n",
       "<table border=\"1\" class=\"dataframe\">\n",
       "  <thead>\n",
       "    <tr style=\"text-align: right;\">\n",
       "      <th></th>\n",
       "      <th>% of patents</th>\n",
       "      <th>sec_desc</th>\n",
       "    </tr>\n",
       "    <tr>\n",
       "      <th>section</th>\n",
       "      <th></th>\n",
       "      <th></th>\n",
       "    </tr>\n",
       "  </thead>\n",
       "  <tbody>\n",
       "    <tr>\n",
       "      <th>G</th>\n",
       "      <td>24.743841</td>\n",
       "      <td>PHYSICS</td>\n",
       "    </tr>\n",
       "    <tr>\n",
       "      <th>H</th>\n",
       "      <td>21.590743</td>\n",
       "      <td>ELECTRICITY</td>\n",
       "    </tr>\n",
       "    <tr>\n",
       "      <th>B</th>\n",
       "      <td>15.955769</td>\n",
       "      <td>PERFORMING OPERATIONS; TRANSPORTING</td>\n",
       "    </tr>\n",
       "    <tr>\n",
       "      <th>A</th>\n",
       "      <td>13.410776</td>\n",
       "      <td>HUMAN NECESSITIES</td>\n",
       "    </tr>\n",
       "    <tr>\n",
       "      <th>C</th>\n",
       "      <td>11.050994</td>\n",
       "      <td>CHEMISTRY; METALLURGY</td>\n",
       "    </tr>\n",
       "    <tr>\n",
       "      <th>F</th>\n",
       "      <td>7.556453</td>\n",
       "      <td>MECHANICAL ENGINEERING; LIGHTING; HEATING; WEA...</td>\n",
       "    </tr>\n",
       "    <tr>\n",
       "      <th>D</th>\n",
       "      <td>3.151050</td>\n",
       "      <td>TEXTILES; PAPER</td>\n",
       "    </tr>\n",
       "    <tr>\n",
       "      <th>E</th>\n",
       "      <td>2.540373</td>\n",
       "      <td>FIXED CONSTRUCTIONS</td>\n",
       "    </tr>\n",
       "  </tbody>\n",
       "</table>\n",
       "</div>"
      ],
      "text/plain": [
       "         % of patents                                           sec_desc\n",
       "section                                                                 \n",
       "G           24.743841                                            PHYSICS\n",
       "H           21.590743                                        ELECTRICITY\n",
       "B           15.955769                PERFORMING OPERATIONS; TRANSPORTING\n",
       "A           13.410776                                  HUMAN NECESSITIES\n",
       "C           11.050994                              CHEMISTRY; METALLURGY\n",
       "F            7.556453  MECHANICAL ENGINEERING; LIGHTING; HEATING; WEA...\n",
       "D            3.151050                                    TEXTILES; PAPER\n",
       "E            2.540373                                FIXED CONSTRUCTIONS"
      ]
     },
     "execution_count": 31,
     "metadata": {},
     "output_type": "execute_result"
    }
   ],
   "source": [
    "sec_tab = pd.crosstab(index=ipcr_s['section'], columns='% of patents')\n",
    "sec_tab = (100*sec_tab/sec_tab.sum()).sort_values('% of patents', \n",
    "                                                  ascending=False)\n",
    "sec_tab.join(sec_desc)\n"
   ]
  },
  {
   "cell_type": "markdown",
   "metadata": {},
   "source": [
    "The category with the lowest percentage is 'FIXED CONSTRUCTIONS' with 2.5%. Please note that this is still more than sufficient, given the fact that 5 Mn x 2.5% = 125,000 patents"
   ]
  },
  {
   "cell_type": "markdown",
   "metadata": {},
   "source": [
    "# Summary about IPC\n",
    "1. As of 2018/06/18, the IPC data file has a little less than 6 Million patents from 2006/01/24 - 2017/12/26.\n",
    "\n",
    "\n",
    "2. A little less than 60% do use IPC version 2006/01/01, 35% use something before that '0000/00/00'\n",
    "\n",
    "3. After dropping nas, we stand at 8 Mn IPC entries. After dropping duplicates find that classification_level appears to be mutual exclusive\n"
   ]
  }
 ],
 "metadata": {
  "kernelspec": {
   "display_name": "Python 3",
   "language": "python",
   "name": "python3"
  },
  "language_info": {
   "codemirror_mode": {
    "name": "ipython",
    "version": 3
   },
   "file_extension": ".py",
   "mimetype": "text/x-python",
   "name": "python",
   "nbconvert_exporter": "python",
   "pygments_lexer": "ipython3",
   "version": "3.5.2"
  }
 },
 "nbformat": 4,
 "nbformat_minor": 2
}
